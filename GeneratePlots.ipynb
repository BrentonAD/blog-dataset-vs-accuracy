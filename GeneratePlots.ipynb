{
 "cells": [
  {
   "cell_type": "markdown",
   "metadata": {},
   "source": [
    "# Plots for Training Dataset Size vs Accuracy"
   ]
  },
  {
   "cell_type": "markdown",
   "metadata": {},
   "source": [
    "## Define Experiment Methods"
   ]
  },
  {
   "cell_type": "markdown",
   "metadata": {},
   "source": [
    "### Training Dataset Size"
   ]
  },
  {
   "cell_type": "code",
   "execution_count": null,
   "metadata": {},
   "outputs": [],
   "source": [
    "# Standard library\n",
    "import json\n",
    "import random\n",
    "import sys\n",
    "\n",
    "# My library\n",
    "sys.path.append('../src/')\n",
    "import util.mnist_loader\n",
    "import networks.network as network\n",
    "import networks.cnn_network as cnn_network\n",
    "\n",
    "# Third-party libraries\n",
    "import matplotlib.pyplot as plt\n",
    "import numpy as np\n",
    "from sklearn import svm\n",
    "from keras.utils import to_categorical\n",
    "\n",
    "# The sizes to use for the different training sets\n",
    "SIZES = [100, 200, 500, 1000, 2000, 5000, 10000, 20000, 50000] \n",
    "                       \n",
    "def run_networks():\n",
    "    # Make results more easily reproducible\n",
    "    random.seed(12345678)\n",
    "    np.random.seed(12345678)\n",
    "    training_data, validation_data, test_data = util.mnist_loader.load_data_wrapper()\n",
    "    training_data = list(training_data)\n",
    "    validation_data = list(validation_data)\n",
    "    net = network.Network([784, 30, 10], cost=network.CrossEntropyCost())\n",
    "    accuracies = []\n",
    "    for size in SIZES:\n",
    "        print(\"\\n\\nTraining network with data set size %s\" % size)\n",
    "        net.large_weight_initializer()\n",
    "        num_epochs = round(1500000 / size)\n",
    "        net.SGD(training_data[:size], num_epochs, 10, 0.5, lmbda = size*0.0001)\n",
    "        accuracy = net.accuracy(validation_data) / 100.0\n",
    "        print(\"Accuracy was %s percent\" % accuracy)\n",
    "        accuracies.append(accuracy)\n",
    "    f = open(\"data/output/more_data.json\", \"w\")\n",
    "    json.dump(accuracies, f)\n",
    "    f.close()\n",
    "\n",
    "def run_svms():\n",
    "    svm_training_data, svm_validation_data, svm_test_data \\\n",
    "        = util.mnist_loader.load_data()\n",
    "    accuracies = []\n",
    "    for size in SIZES:\n",
    "        print(\"\\n\\nTraining SVM with data set size %s\" % size)\n",
    "        clf = svm.SVC()\n",
    "        clf.fit(svm_training_data[0][:size], svm_training_data[1][:size])\n",
    "        predictions = [int(a) for a in clf.predict(svm_validation_data[0])]\n",
    "        accuracy = sum(int(a == y) for a, y in \n",
    "                       zip(predictions, svm_validation_data[1])) / 100.0\n",
    "        print(\"Accuracy was %s percent\" % accuracy)\n",
    "        accuracies.append(accuracy)\n",
    "    f = open(\"data/output/more_data_svm.json\", \"w\")\n",
    "    json.dump(accuracies, f)\n",
    "    f.close()\n",
    "\n",
    "def run_cnn():\n",
    "    # Make results more easily reproducible\n",
    "    random.seed(12345678)\n",
    "    np.random.seed(12345678)\n",
    "    # Get training data\n",
    "    training_data_x, training_data_y, validation_data_x, validation_data_y = util.mnist_loader.load_data_cnn()\n",
    "    # one hot encode target values\n",
    "    training_data_y = to_categorical(training_data_y)\n",
    "    validation_data_y = to_categorical(validation_data_y)\n",
    "    accuracies = []\n",
    "    for size in SIZES:\n",
    "        print(\"\\n\\nTraining CNN with data set size %s\" % size)\n",
    "        cnn = cnn_network.CnnNetwork()\n",
    "        num_epochs = round(500000 / size)\n",
    "        # define model\n",
    "        model = cnn.define_model()\n",
    "        # Runn cnn training\n",
    "        model.fit(training_data_x[:size], training_data_y[:size], epochs=num_epochs, batch_size=10, verbose=0)\n",
    "        _, accuracy = model.evaluate(validation_data_x, validation_data_y)\n",
    "        accuracy = accuracy*100\n",
    "        print(\"Accuracy was %s percent\" % accuracy)\n",
    "        accuracies.append(accuracy)\n",
    "    f = open(\"data/output/more_data_cnn.json\", \"w\")\n",
    "    json.dump(accuracies, f)\n",
    "    f.close()"
   ]
  },
  {
   "cell_type": "markdown",
   "metadata": {},
   "source": [
    "### Regularisation Parameter"
   ]
  },
  {
   "cell_type": "code",
   "execution_count": null,
   "metadata": {},
   "outputs": [],
   "source": [
    "LMBDAS = [size*0.0001 for size in SIZES]\n",
    "\n",
    "def run_regularisation_networks():\n",
    "    # Make results more easily reproducible\n",
    "    random.seed(12345678)\n",
    "    np.random.seed(12345678)\n",
    "    training_data, validation_data, test_data = util.mnist_loader.load_data_wrapper()\n",
    "    training_data = list(training_data)\n",
    "    validation_data = list(validation_data)\n",
    "    net = network.Network([784, 30, 10], cost=network.CrossEntropyCost())\n",
    "    accuracies = []\n",
    "    for lmbda in LMBDAS:\n",
    "        print(f\"\\n\\nTraining network with lambda {lmbda}\")\n",
    "        net.large_weight_initializer()\n",
    "        num_epochs = 30\n",
    "        net.SGD(training_data, num_epochs, 10, 0.5, lmbda = lmbda)\n",
    "        accuracy = net.accuracy(validation_data) / 100.0\n",
    "        print(\"Accuracy was %s percent\" % accuracy)\n",
    "        accuracies.append(accuracy)\n",
    "    f = open(\"data/output/more_lambda.json\", \"w\")\n",
    "    json.dump(accuracies, f)\n",
    "    f.close()"
   ]
  },
  {
   "cell_type": "markdown",
   "metadata": {},
   "source": [
    "## Gather Data\n",
    "\n",
    "WARNING: Run at your own risk, will take a long time to train all networks"
   ]
  },
  {
   "cell_type": "code",
   "execution_count": null,
   "metadata": {},
   "outputs": [],
   "source": [
    "# run_networks()\n",
    "# run_svms()\n",
    "# run_cnn()"
   ]
  },
  {
   "cell_type": "code",
   "execution_count": null,
   "metadata": {},
   "outputs": [],
   "source": [
    "# run_regularisation_networks()"
   ]
  },
  {
   "cell_type": "markdown",
   "metadata": {},
   "source": [
    "## Import Data"
   ]
  },
  {
   "cell_type": "code",
   "execution_count": null,
   "metadata": {},
   "outputs": [],
   "source": [
    "# Standard library\n",
    "import json\n",
    "\n",
    "# Training Dataset Size\n",
    "f = open(\"data/output/more_data.json\", \"r\")\n",
    "accuracies = json.load(f)\n",
    "f.close()\n",
    "f = open(\"data/output/more_data_svm.json\", \"r\")\n",
    "svm_accuracies = json.load(f)\n",
    "f.close()\n",
    "f = open(\"data/output/more_data_cnn.json\", \"r\")\n",
    "cnn_accuracies = json.load(f)\n",
    "f.close()\n",
    "\n",
    "# Regularisation Parameter\n",
    "f = open(\"data/output/more_lambda.json\", \"r\")\n",
    "reg_accuracies = json.load(f)\n",
    "f.close()"
   ]
  },
  {
   "cell_type": "markdown",
   "metadata": {},
   "source": [
    "## 1. Make Combined Plot"
   ]
  },
  {
   "cell_type": "code",
   "execution_count": null,
   "metadata": {},
   "outputs": [],
   "source": [
    "def make_combined_plot(accuracies, svm_accuracies, cnn_accuracies):\n",
    "    fig = plt.figure(figsize=(20,10))\n",
    "    ax = fig.add_subplot(111)\n",
    "    ax.plot(SIZES, accuracies, color='#50BEDB')\n",
    "    ax.plot(SIZES, accuracies, \"o\", color='#50BEDB', \n",
    "            label='Neural network accuracy (%)')\n",
    "    ax.plot(SIZES, svm_accuracies, color='#3E91A8')\n",
    "    ax.plot(SIZES, svm_accuracies, \"o\", color='#3E91A8',\n",
    "            label='SVM accuracy (%)')\n",
    "    ax.plot(SIZES, cnn_accuracies, color='#3E555C')\n",
    "    ax.plot(SIZES, cnn_accuracies, \"o\", color='#3E555C',\n",
    "            label='CNN accuracy (%)')\n",
    "    ax.set_xlim(0, 50000)\n",
    "    ax.set_ylim(60, 100)\n",
    "    ax.set_xlabel('Training set size')\n",
    "    plt.legend(loc=\"lower right\")\n",
    "    plt.show()"
   ]
  },
  {
   "cell_type": "code",
   "execution_count": null,
   "metadata": {},
   "outputs": [],
   "source": [
    "make_combined_plot(accuracies, svm_accuracies, cnn_accuracies)"
   ]
  },
  {
   "cell_type": "markdown",
   "metadata": {},
   "source": [
    "## 2. Make Hyperbolic Best Fit Plot"
   ]
  },
  {
   "cell_type": "code",
   "execution_count": null,
   "metadata": {},
   "outputs": [],
   "source": [
    "def make_combined_bestfit_plot(accuracies, svm_accuracies, cnn_accuracies):\n",
    "    fig = plt.figure(figsize=(20,10))\n",
    "    ax = fig.add_subplot(111)\n",
    "    ax.scatter(SIZES, accuracies, color='#50BEDB', label='Neural network accuracy (%)')\n",
    "    # curve fit\n",
    "    popt, _ = curve_fit(objective, SIZES, accuracies)\n",
    "    # summarize the parameter values\n",
    "    a, b, c, d = popt\n",
    "    # define a sequence of inputs between the smallest and largest known inputs\n",
    "    neural_x_line = range(1, 55000, 1)\n",
    "    # calculate the output for the range\n",
    "    neural_y_line = objective(neural_x_line, a, b, c, d)\n",
    "    # create a line plot for the mapping function\n",
    "    ax.plot(neural_x_line, neural_y_line, '--', color='#50BEDB')\n",
    "    \n",
    "    ax.scatter(SIZES, svm_accuracies, color='#3E91A8', label='SVM accuracy (%)')\n",
    "    # curve fit\n",
    "    popt, _ = curve_fit(objective, SIZES, svm_accuracies)\n",
    "    # summarize the parameter values\n",
    "    a, b, c, d = popt\n",
    "    # define a sequence of inputs between the smallest and largest known inputs\n",
    "    svm_x_line = range(0, 55000, 1)\n",
    "    # calculate the output for the range\n",
    "    svm_y_line = objective(svm_x_line, a, b, c, d)\n",
    "    # create a line plot for the mapping function\n",
    "    ax.plot(svm_x_line, svm_y_line, '--', color='#3E91A8')   \n",
    "    \n",
    "    ax.scatter(SIZES, cnn_accuracies, color='#3E555C', label='CNN accuracy (%)')\n",
    "    # curve fit\n",
    "    popt, _ = curve_fit(objective, SIZES, cnn_accuracies)\n",
    "    # summarize the parameter values\n",
    "    a, b, c, d = popt\n",
    "    # define a sequence of inputs between the smallest and largest known inputs\n",
    "    cnn_x_line = range(0, 55000, 1)\n",
    "    # calculate the output for the range\n",
    "    cnn_y_line = objective(cnn_x_line, a, b, c, d)\n",
    "    # create a line plot for the mapping function\n",
    "    ax.plot(cnn_x_line, cnn_y_line, '--', color='#3E555C')  \n",
    "    \n",
    "    fontProperties = {'fontname':'Arial', 'fontsize':'x-large'}\n",
    "    \n",
    "    ax.set_xlim(0, 55000)\n",
    "    ax.set_ylim(60, 100)\n",
    "    ax.set_xlabel('Training set size', **fontProperties)\n",
    "    plt.legend(loc=\"lower right\")\n",
    "    plt.show()"
   ]
  },
  {
   "cell_type": "code",
   "execution_count": null,
   "metadata": {},
   "outputs": [],
   "source": [
    "from scipy.optimize import curve_fit\n",
    "import numpy as np\n",
    "\n",
    "# objective function\n",
    "def objective(x, a, b, c, d):\n",
    "\treturn a/(b*x-d) + c "
   ]
  },
  {
   "cell_type": "code",
   "execution_count": null,
   "metadata": {},
   "outputs": [],
   "source": [
    "make_combined_bestfit_plot(accuracies, svm_accuracies, cnn_accuracies)"
   ]
  },
  {
   "cell_type": "markdown",
   "metadata": {},
   "source": [
    "## 3. Make Power Law Best Fit Plot"
   ]
  },
  {
   "cell_type": "code",
   "execution_count": null,
   "metadata": {},
   "outputs": [],
   "source": [
    "def make_refined_combined_bestfit_plot(accuracies, svm_accuracies, cnn_accuracies, param_bounds):\n",
    "    fig = plt.figure(figsize=(20,10))\n",
    "    ax = fig.add_subplot(111)\n",
    "    ax.scatter(SIZES, accuracies, color='#50BEDB', label='Neural network accuracy (%)')\n",
    "    # curve fit\n",
    "    popt, _ = curve_fit(objective, SIZES, accuracies, p0=[100,-100,-1], bounds=param_bounds)\n",
    "    # summarize the parameter values\n",
    "    a, c1, c2 = popt\n",
    "    # define a sequence of inputs between the smallest and largest known inputs\n",
    "    neural_x_line = range(1, 55000, 1)\n",
    "    # calculate the output for the range\n",
    "    neural_y_line = objective(neural_x_line, a, c1, c2)\n",
    "    # create a line plot for the mapping function\n",
    "    ax.plot(neural_x_line, neural_y_line, '--', color='#50BEDB')\n",
    "    print(f\"ANN Parameters are {popt} with SD: {np.sqrt(np.diag(_))}\")\n",
    "    \n",
    "    ax.scatter(SIZES, svm_accuracies, color='#3E91A8', label='SVM accuracy (%)')\n",
    "    # curve fit\n",
    "    popt, _ = curve_fit(objective, SIZES, svm_accuracies, p0=[100,-100,-1], bounds=param_bounds)\n",
    "    # summarize the parameter values\n",
    "    a, c1, c2 = popt\n",
    "    # define a sequence of inputs between the smallest and largest known inputs\n",
    "    svm_x_line = range(0, 55000, 1)\n",
    "    # calculate the output for the range\n",
    "    svm_y_line = objective(svm_x_line, a, c1, c2)\n",
    "    # create a line plot for the mapping function\n",
    "    ax.plot(svm_x_line, svm_y_line, '--', color='#3E91A8')\n",
    "    print(f\"SVM Parameters are {popt} with SD: {np.sqrt(np.diag(_))}\")\n",
    "    \n",
    "    ax.scatter(SIZES, cnn_accuracies, color='#3E555C', label='CNN accuracy (%)')\n",
    "    # curve fit\n",
    "    popt, _ = curve_fit(objective, SIZES, cnn_accuracies, p0=[100,-100,-1], bounds=param_bounds)\n",
    "    # summarize the parameter values\n",
    "    a, c1, c2 = popt\n",
    "    # define a sequence of inputs between the smallest and largest known inputs\n",
    "    cnn_x_line = range(0, 55000, 1)\n",
    "    # calculate the output for the range\n",
    "    cnn_y_line = objective(cnn_x_line, a, c1, c2)\n",
    "    # create a line plot for the mapping function\n",
    "    ax.plot(cnn_x_line, cnn_y_line, '--', color='#3E555C')\n",
    "    print(f\"CNN Parameters are {popt} with SD: {np.sqrt(np.diag(_))}\")\n",
    "    \n",
    "    fontProperties = {'fontname':'Arial', 'fontsize':'x-large'}\n",
    "    \n",
    "    ax.set_xlim(0, 55000)\n",
    "    ax.set_ylim(60, 100)\n",
    "    ax.set_xlabel('Training set size', **fontProperties)\n",
    "    plt.legend(loc=\"lower right\")\n",
    "    plt.show()"
   ]
  },
  {
   "cell_type": "code",
   "execution_count": null,
   "metadata": {},
   "outputs": [],
   "source": [
    "from scipy.optimize import curve_fit\n",
    "import numpy as np\n",
    "\n",
    "# objective function\n",
    "def objective(x, a, c1, c2):\n",
    "    return a + x**c2 * c1\n",
    "\n",
    "param_bounds=([0,-np.inf,-np.inf],[100,0,0])"
   ]
  },
  {
   "cell_type": "code",
   "execution_count": null,
   "metadata": {},
   "outputs": [],
   "source": [
    "make_refined_combined_bestfit_plot(accuracies, svm_accuracies, cnn_accuracies, param_bounds)"
   ]
  },
  {
   "cell_type": "markdown",
   "metadata": {},
   "source": [
    "## 4. Plot Behaviour of Another Regulisation Method"
   ]
  },
  {
   "cell_type": "code",
   "execution_count": null,
   "metadata": {},
   "outputs": [],
   "source": [
    "from scipy.optimize import curve_fit\n",
    "import numpy as np\n",
    "\n",
    "# objective function\n",
    "def objective(x, a, c1, c2):\n",
    "    return a + x**c2 * c1\n",
    "\n",
    "param_bounds=([0,-np.inf,-np.inf],[100,0,0])"
   ]
  },
  {
   "cell_type": "code",
   "execution_count": null,
   "metadata": {},
   "outputs": [],
   "source": [
    "def make_regularisation_plot(reg_accuracies, param_bounds):\n",
    "    fig = plt.figure(figsize=(20,10))\n",
    "    ax = fig.add_subplot(111)\n",
    "    ax.scatter(LMBDAS, reg_accuracies, color='#50BEDB')\n",
    "    \n",
    "    popt, _ = curve_fit(objective, LMBDAS, reg_accuracies, bounds=param_bounds)\n",
    "    # summarize the parameter values\n",
    "    a, c1, c2 = popt\n",
    "    # define a sequence of inputs between the smallest and largest known inputs\n",
    "    neural_x_line = [ x/1000 for x in range(1, 6000, 1) ]\n",
    "    # calculate the output for the range\n",
    "    neural_y_line = objective(neural_x_line, a, c1, c2)\n",
    "    # create a line plot for the mapping function\n",
    "    ax.plot(neural_x_line, neural_y_line, '--', color='#50BEDB')\n",
    "    print(f\"Parameters are {popt} with SD: {np.sqrt(np.diag(_))}\")\n",
    "    \n",
    "    fontProperties = {'fontname':'Arial', 'fontsize':'x-large'}\n",
    "    \n",
    "    ax.set_xlim(0, 7)\n",
    "    ax.set_ylim(94, 97)\n",
    "    ax.set_xlabel('Lambda', **fontProperties)\n",
    "    plt.show()"
   ]
  },
  {
   "cell_type": "code",
   "execution_count": null,
   "metadata": {},
   "outputs": [],
   "source": [
    "make_regularisation_plot(reg_accuracies, param_bounds)"
   ]
  }
 ],
 "metadata": {
  "kernelspec": {
   "display_name": "Python [conda env:DeepLearningTF]",
   "language": "python",
   "name": "conda-env-DeepLearningTF-py"
  },
  "language_info": {
   "codemirror_mode": {
    "name": "ipython",
    "version": 3
   },
   "file_extension": ".py",
   "mimetype": "text/x-python",
   "name": "python",
   "nbconvert_exporter": "python",
   "pygments_lexer": "ipython3",
   "version": "3.6.13"
  }
 },
 "nbformat": 4,
 "nbformat_minor": 4
}
